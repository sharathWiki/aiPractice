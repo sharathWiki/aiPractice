{
 "cells": [
  {
   "cell_type": "code",
   "execution_count": 4,
   "id": "a7720f68",
   "metadata": {},
   "outputs": [
    {
     "name": "stdout",
     "output_type": "stream",
     "text": [
      "Following is the Breadth-First Search\n",
      "5 3 7 2 4 8 8 "
     ]
    }
   ],
   "source": [
    "graph = {\n",
    "'5' : ['3','7'],\n",
    "'3' : ['2', '4'],\n",
    "'7' : ['8'],\n",
    "'2' : [],\n",
    "'4' : ['8'],\n",
    "'8' : []\n",
    "}\n",
    "visited = [] # List for visited nodes. it represent Closed list\n",
    "queue = [] #Initialize a queue. it represent open list in BFS\n",
    "stack = [] # it represent open list in DFS\n",
    "goal_node = 4\n",
    "\n",
    "def bfs(graph, node):\n",
    "    queue.append(node)\n",
    "    while queue:\n",
    "        m = queue.pop(0)\n",
    "        print (m, end = \" \") # end = \" \" remove new-line character from print\n",
    "        #if int(m) == goal_node:\n",
    "         #   print(\"\\n goal is reached. STOP Algorithm\")\n",
    "          #  break\n",
    "        #visited.append(m)\n",
    "        for neighbour in graph[m]:\n",
    "            #print(neighbour) \n",
    "            if neighbour not in visited:\n",
    "                queue.append(neighbour)\n",
    "print(\"Following is the Breadth-First Search\")\n",
    "bfs(graph, '5')\n",
    "\n",
    "\n",
    "\n"
   ]
  },
  {
   "cell_type": "code",
   "execution_count": 5,
   "id": "40f1965c",
   "metadata": {},
   "outputs": [
    {
     "name": "stdout",
     "output_type": "stream",
     "text": [
      "Following is the Depth-First Search\n",
      "5 7 8 3 4 \n",
      " Goal Reached.\n",
      " STOP. \n",
      " Goal =  4\n"
     ]
    }
   ],
   "source": [
    "def dfs(graph, node):\n",
    "    stack.append(node)\n",
    "    while stack:\n",
    "        m = stack.pop(-1)\n",
    "        print (m, end = \" \")\n",
    "        if int(m) == goal_node:\n",
    "            print(\"\\n Goal Reached.\\n STOP. \\n Goal = \",m)\n",
    "            break\n",
    "        if m in visited:\n",
    "            continue\n",
    "            print(m, end = \" \")\n",
    "            visited.append(m)\n",
    "        for neighbor in graph[m]:\n",
    "            stack.append(neighbor)\n",
    "            \n",
    "\n",
    "# Driver Code\n",
    "print(\"Following is the Depth-First Search\")\n",
    "dfs(graph, '5')\n",
    "#clear all the data-structure\n",
    "#visited.clear()\n",
    "#stack.clear()"
   ]
  },
  {
   "cell_type": "code",
   "execution_count": 11,
   "id": "60a7ae10",
   "metadata": {},
   "outputs": [],
   "source": [
    "list = ['p','r','o','b','e','f','i','j','k']\n"
   ]
  },
  {
   "cell_type": "code",
   "execution_count": 12,
   "id": "26578331",
   "metadata": {},
   "outputs": [
    {
     "name": "stdout",
     "output_type": "stream",
     "text": [
      "['o', 'b']\n"
     ]
    }
   ],
   "source": [
    "print(list[2:4])"
   ]
  },
  {
   "cell_type": "code",
   "execution_count": 7,
   "id": "323dfa94",
   "metadata": {},
   "outputs": [
    {
     "name": "stdout",
     "output_type": "stream",
     "text": [
      "['p']\n"
     ]
    }
   ],
   "source": [
    "print(list[:1])"
   ]
  },
  {
   "cell_type": "code",
   "execution_count": 8,
   "id": "4724463c",
   "metadata": {},
   "outputs": [
    {
     "name": "stdout",
     "output_type": "stream",
     "text": [
      "[]\n"
     ]
    }
   ],
   "source": [
    "print(list[:0])"
   ]
  },
  {
   "cell_type": "code",
   "execution_count": 9,
   "id": "66b99e6d",
   "metadata": {},
   "outputs": [
    {
     "name": "stdout",
     "output_type": "stream",
     "text": [
      "['p', 'r', 'o', 'b', 'e', 'f', 'i', 'j', 'k']\n"
     ]
    }
   ],
   "source": [
    "print(list[:9])"
   ]
  },
  {
   "cell_type": "code",
   "execution_count": 10,
   "id": "6bab847b",
   "metadata": {},
   "outputs": [
    {
     "name": "stdout",
     "output_type": "stream",
     "text": [
      "['b', 'e', 'f', 'i', 'j', 'k']\n"
     ]
    }
   ],
   "source": [
    "print(list[3:9])"
   ]
  },
  {
   "cell_type": "code",
   "execution_count": 13,
   "id": "55a1f33c",
   "metadata": {},
   "outputs": [
    {
     "name": "stdout",
     "output_type": "stream",
     "text": [
      "['b', 'f', 'j']\n"
     ]
    }
   ],
   "source": [
    "print(list[3:9:2])"
   ]
  },
  {
   "cell_type": "code",
   "execution_count": null,
   "id": "3fb89ae5",
   "metadata": {},
   "outputs": [],
   "source": [
    "print(list[2:4])"
   ]
  }
 ],
 "metadata": {
  "kernelspec": {
   "display_name": "Python 3 (ipykernel)",
   "language": "python",
   "name": "python3"
  },
  "language_info": {
   "codemirror_mode": {
    "name": "ipython",
    "version": 3
   },
   "file_extension": ".py",
   "mimetype": "text/x-python",
   "name": "python",
   "nbconvert_exporter": "python",
   "pygments_lexer": "ipython3",
   "version": "3.11.5"
  }
 },
 "nbformat": 4,
 "nbformat_minor": 5
}
